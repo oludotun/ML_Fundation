{
 "cells": [
  {
   "cell_type": "markdown",
   "metadata": {},
   "source": [
    "### 9 Most Important Application of Linear Algebra\n",
    "1. Data Set and Data Files\n",
    "2. Images and Photographs\n",
    "3. Data Preparation: Examples are Dimensionality reduction and hot encoding (used for encoding categorical variables)\n",
    "4. Linear Regression\n",
    "5. Regularization: Used to prevent over fitting\n",
    "6. Principal Component Analysis (PCA): Used to reduce number of columns of a dataset\n",
    "7. Latent Semantic Analysis (LSA): Used for keyword categorization, i.e. documents are represented as a large matrices of words occurrences\n",
    "8. Recommender Systems\n",
    "9. Deep Learning"
   ]
  },
  {
   "cell_type": "markdown",
   "metadata": {},
   "source": [
    "Vector = Matrix, because it has dimensionality. It's an ordered list of numbers\n",
    "### Python Representation of a Vector:\n",
    "- rowVector = np.array([[1,2,3,4,5] ])\n",
    "- columnVector = np.array([[1],[2],[3],[4],[5]])\n",
    "- These two vectors are not the same.\n",
    "\n",
    "Watch this YouTube Video https://youtu.be/l9ioZA9brtc"
   ]
  },
  {
   "cell_type": "markdown",
   "metadata": {},
   "source": [
    "### Vector Addition & Subtraction\n",
    "Addition is only possible for two vectors with the same dimension"
   ]
  },
  {
   "cell_type": "code",
   "execution_count": 18,
   "metadata": {},
   "outputs": [],
   "source": [
    "import numpy as np\n",
    "\n",
    "a = np.array([20, 40, 60])\n",
    "b = np.array([10, 20, 30])\n",
    "c = np.array([5, 10, 15, 20])"
   ]
  },
  {
   "cell_type": "code",
   "execution_count": 19,
   "metadata": {},
   "outputs": [
    {
     "data": {
      "text/plain": [
       "array([30, 60, 90])"
      ]
     },
     "execution_count": 19,
     "metadata": {},
     "output_type": "execute_result"
    }
   ],
   "source": [
    "# The Code below should run because a and b has same dimension\n",
    "a+b"
   ]
  },
  {
   "cell_type": "code",
   "execution_count": 20,
   "metadata": {},
   "outputs": [],
   "source": [
    "# The following code should fail because a and c has different dimension\n",
    "# a+c"
   ]
  },
  {
   "cell_type": "code",
   "execution_count": 21,
   "metadata": {},
   "outputs": [],
   "source": [
    "# The following code should fail because a and c has different dimension\n",
    "# a-c"
   ]
  },
  {
   "cell_type": "code",
   "execution_count": 22,
   "metadata": {},
   "outputs": [
    {
     "data": {
      "text/plain": [
       "array([ 200,  800, 1800])"
      ]
     },
     "execution_count": 22,
     "metadata": {},
     "output_type": "execute_result"
    }
   ],
   "source": [
    "a*b"
   ]
  },
  {
   "cell_type": "code",
   "execution_count": 23,
   "metadata": {},
   "outputs": [
    {
     "data": {
      "text/plain": [
       "array([2., 2., 2.])"
      ]
     },
     "execution_count": 23,
     "metadata": {},
     "output_type": "execute_result"
    }
   ],
   "source": [
    "a/b"
   ]
  },
  {
   "cell_type": "code",
   "execution_count": 24,
   "metadata": {},
   "outputs": [
    {
     "name": "stdout",
     "output_type": "stream",
     "text": [
      "[10, 11, 12, 13, 14, 15]\n",
      "[10 11 12 13 14 15]\n"
     ]
    }
   ],
   "source": [
    "scalar = 2\n",
    "list_a = [10,11,12,13,14,15]\n",
    "print(list_a)\n",
    "list_as_array = np.array(list_a)\n",
    "print(list_as_array)"
   ]
  },
  {
   "cell_type": "code",
   "execution_count": 25,
   "metadata": {},
   "outputs": [
    {
     "data": {
      "text/plain": [
       "[10, 11, 12, 13, 14, 15, 10, 11, 12, 13, 14, 15]"
      ]
     },
     "execution_count": 25,
     "metadata": {},
     "output_type": "execute_result"
    }
   ],
   "source": [
    "# This is not an operation of scalar vector multiplication, list_a is not a vector\n",
    "scalar * list_a"
   ]
  },
  {
   "cell_type": "code",
   "execution_count": 26,
   "metadata": {},
   "outputs": [
    {
     "data": {
      "text/plain": [
       "array([20, 22, 24, 26, 28, 30])"
      ]
     },
     "execution_count": 26,
     "metadata": {},
     "output_type": "execute_result"
    }
   ],
   "source": [
    "# Only when a vector is stored as an nd array do they have element wise multiplication\n",
    "scalar * list_as_array"
   ]
  },
  {
   "cell_type": "markdown",
   "metadata": {},
   "source": [
    "### Vector Projections and Basics\n",
    "#### Dot Product of Vectors\n",
    "\n",
    "\\begin{aligned}\n",
    "Formula:a.b &= \\sum_{i=1}^{n}a_ib_i \\\\\n",
    "\\bar{a} &= \\left[1,2,3,4,5\\right] \\\\\n",
    "\\bar{b} &= \\left[6,7,8,9,10\\right] \\\\\n",
    "a.b &= 1.6 + 2.7 + 3.8 + 4.9 + 5.10 &= 130 \\\\\n",
    "\\end{aligned}\n"
   ]
  },
  {
   "cell_type": "code",
   "execution_count": 27,
   "metadata": {},
   "outputs": [],
   "source": [
    "a = np.array([1,2,3,4,5])\n",
    "b = np.array([6,7,8,9,10])\n",
    "c = np.array([11,12,13,14,15])"
   ]
  },
  {
   "cell_type": "markdown",
   "metadata": {},
   "source": [
    "#### Basic Properties of Dot Product\n",
    "- It is commutative: a.b = b.a\n",
    "- It is distributive: a(b + c) = a.b + a.c"
   ]
  },
  {
   "cell_type": "code",
   "execution_count": 28,
   "metadata": {},
   "outputs": [
    {
     "name": "stdout",
     "output_type": "stream",
     "text": [
      "130\n",
      "130\n"
     ]
    }
   ],
   "source": [
    "# Dot product of vectors\n",
    "print(np.dot(a,b))\n",
    "print(np.dot(b,a))"
   ]
  },
  {
   "cell_type": "code",
   "execution_count": 29,
   "metadata": {},
   "outputs": [
    {
     "name": "stdout",
     "output_type": "stream",
     "text": [
      "335\n",
      "335\n"
     ]
    }
   ],
   "source": [
    "first_result = np.dot(a, b+c)\n",
    "print(first_result)\n",
    "second_result = np.dot(a,b) + np.dot(a,c)\n",
    "print(second_result)"
   ]
  },
  {
   "cell_type": "markdown",
   "metadata": {},
   "source": [
    "#### Magnitude of a Vector\n",
    "\n",
    "\\begin{aligned}\n",
    "Formula:\\left|x\\right| &= \\sqrt{\\sum_{i=1}^{n}x_i^2} \\\\\n",
    "\\bar{x} &= \\left[1,2,3,4,5\\right] \\\\\n",
    "\\left|x\\right| &= \\sqrt{1^2+2^2+3^3+4^2+5^2}  &= 7.4 \\\\\n",
    "\\end{aligned}"
   ]
  },
  {
   "cell_type": "code",
   "execution_count": 30,
   "metadata": {},
   "outputs": [
    {
     "name": "stdout",
     "output_type": "stream",
     "text": [
      "7.416198487095663\n"
     ]
    }
   ],
   "source": [
    "magnitude = np.linalg.norm(a)\n",
    "print(magnitude)"
   ]
  },
  {
   "cell_type": "markdown",
   "metadata": {},
   "source": [
    "#### Scalar and Vector Projection\n",
    "\n",
    "\\begin{aligned}\n",
    "Formula:proj_b a &= \\frac{a.b}{\\left|b\\right|^2}b\n",
    "\\end{aligned}"
   ]
  },
  {
   "cell_type": "code",
   "execution_count": 31,
   "metadata": {},
   "outputs": [],
   "source": [
    "from numpy import linalg as lng\n",
    "a = np.array([10,20,30,40,50])\n",
    "b = np.array([60,70,80,90,100])"
   ]
  },
  {
   "cell_type": "code",
   "execution_count": 32,
   "metadata": {},
   "outputs": [
    {
     "name": "stdout",
     "output_type": "stream",
     "text": [
      "74.16198487095663\n"
     ]
    }
   ],
   "source": [
    "magnitude = lng.norm(a)\n",
    "print(magnitude)"
   ]
  },
  {
   "cell_type": "code",
   "execution_count": 33,
   "metadata": {},
   "outputs": [
    {
     "name": "stdout",
     "output_type": "stream",
     "text": [
      "[23.63636364 27.57575758 31.51515152 35.45454545 39.39393939]\n"
     ]
    }
   ],
   "source": [
    "vector_projection = (np.dot(a,b)/np.dot(b,b)) * b\n",
    "print(vector_projection)"
   ]
  }
 ],
 "metadata": {
  "kernelspec": {
   "display_name": "pytorch",
   "language": "python",
   "name": "python3"
  },
  "language_info": {
   "codemirror_mode": {
    "name": "ipython",
    "version": 3
   },
   "file_extension": ".py",
   "mimetype": "text/x-python",
   "name": "python",
   "nbconvert_exporter": "python",
   "pygments_lexer": "ipython3",
   "version": "3.10.15"
  }
 },
 "nbformat": 4,
 "nbformat_minor": 2
}
