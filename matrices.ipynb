{
 "cells": [
  {
   "cell_type": "markdown",
   "metadata": {},
   "source": [
    "### Matrices\n",
    "\n",
    "#### Types of Matrices\n",
    "The seven different types of Matrices that is most useful\n",
    "- Rectangular: m x n\n",
    "- Square: m x m\n",
    "- Symmetric: m x m with elements mirrored across the diagonal\n",
    "- Zero (O): All elements equals zero. A x O = 0\n",
    "- Identity (I): I = m x m with zeros off-diagonal elements & ones on diagonal elements. A x I = A\n",
    "- Diagonal (D): All diagonal elements equals zero, off-diagonal elements can be any number including zero\n",
    "- Triangular: m x m upper triangular nonzero elements above the diagonal and zeros below, lower is reversed"
   ]
  },
  {
   "cell_type": "markdown",
   "metadata": {},
   "source": [
    "#### Matrix Transformation\n",
    "Any linear transformation in a plane or in a space can be specified using vectors or matrices.\n",
    "We can specify amy linear transformation in three-dimensional space by using a matrix that has nine elements. If we specifically pick these nine elements, we can achieve:\n",
    "- Scaling by a factor in a direction\n",
    "- Reflection across the plane\n",
    "- Rotation by angle about an axis\n",
    "- projection onto any plane or some composition of transformations\n",
    "- Inversion"
   ]
  },
  {
   "cell_type": "markdown",
   "metadata": {},
   "source": [
    "#### Gaussian Elimination\n",
    "Gaussian elimination can be broken down into five steps:\n",
    "- Converting system to matrix-vector equation\n",
    "- Augmenting the coefficient matrix with the vector of constants\n",
    "- Creating a matrix with one diagonals\n",
    "- Mapping the matrix back to equations\n",
    "- Substitution to solve for variables\n",
    "\n",
    "A matrix B such that A.B = B.A = I is called an **inverse matrix** of A, where I is Identity matrix\n",
    "\n",
    "\\begin{aligned}\n",
    "A^{-1} \\\\\n",
    "A.A^{-1} &= I \\\\\n",
    "A.B = B.A = I \\\\\n",
    "\\end{aligned}\n"
   ]
  },
  {
   "cell_type": "code",
   "execution_count": 4,
   "metadata": {},
   "outputs": [
    {
     "name": "stdout",
     "output_type": "stream",
     "text": [
      "[[1 2]\n",
      " [3 4]]\n"
     ]
    }
   ],
   "source": [
    "import numpy as np\n",
    "A = np.array([[1,2],[3,4]])\n",
    "print(A)"
   ]
  },
  {
   "cell_type": "code",
   "execution_count": 5,
   "metadata": {},
   "outputs": [
    {
     "name": "stdout",
     "output_type": "stream",
     "text": [
      "[[-2.   1. ]\n",
      " [ 1.5 -0.5]]\n"
     ]
    }
   ],
   "source": [
    "Ainv = np.linalg.inv(A)\n",
    "print(Ainv)"
   ]
  },
  {
   "cell_type": "code",
   "execution_count": 6,
   "metadata": {},
   "outputs": [
    {
     "name": "stdout",
     "output_type": "stream",
     "text": [
      "[ 5 11]\n"
     ]
    }
   ],
   "source": [
    "B = np.array([5,11])\n",
    "print(B)"
   ]
  },
  {
   "cell_type": "code",
   "execution_count": 7,
   "metadata": {},
   "outputs": [
    {
     "name": "stdout",
     "output_type": "stream",
     "text": [
      "[1. 2.]\n"
     ]
    }
   ],
   "source": [
    "X = np.dot(Ainv, B)\n",
    "print(X)"
   ]
  },
  {
   "cell_type": "code",
   "execution_count": 8,
   "metadata": {},
   "outputs": [
    {
     "name": "stdout",
     "output_type": "stream",
     "text": [
      "[ 5. 11.]\n"
     ]
    }
   ],
   "source": [
    "print(np.dot(A, X))"
   ]
  },
  {
   "cell_type": "markdown",
   "metadata": {},
   "source": [
    "- A determinant for a matrix A is denoted by det(A)\n",
    "- If det(A) = 0, then matrix A inverse cannot be computed i.e. matrix A is **Singular**, meaning that it contains only dependent columns\n",
    "\n",
    "\\begin{aligned}\n",
    "A &= \\begin{bmatrix} a & b \\\\ c & d \\end{bmatrix} \\\\\n",
    "det(A) &= a.d - b.c \\\\\n",
    "\\end{aligned}"
   ]
  },
  {
   "cell_type": "code",
   "execution_count": null,
   "metadata": {},
   "outputs": [
    {
     "name": "stdout",
     "output_type": "stream",
     "text": [
      "-2.0000000000000004\n"
     ]
    }
   ],
   "source": [
    "detA = np.linalg.det(A)\n",
    "print(detA)"
   ]
  },
  {
   "cell_type": "code",
   "execution_count": 11,
   "metadata": {},
   "outputs": [
    {
     "name": "stdout",
     "output_type": "stream",
     "text": [
      "[[3 1]\n",
      " [6 2]]\n"
     ]
    }
   ],
   "source": [
    "B = np.array([[3,1], [6,2]])\n",
    "print(B)"
   ]
  },
  {
   "cell_type": "code",
   "execution_count": null,
   "metadata": {},
   "outputs": [
    {
     "name": "stdout",
     "output_type": "stream",
     "text": [
      "0.0\n"
     ]
    }
   ],
   "source": [
    "# B is a Singular matrix, because the determinant is zero\n",
    "detB =  np.linalg.det(B)\n",
    "print(detB)"
   ]
  },
  {
   "cell_type": "code",
   "execution_count": null,
   "metadata": {},
   "outputs": [],
   "source": [
    "# Calculating the inverse of a Singular Matrix will throw an error\n",
    "np.linalg.inv(B)"
   ]
  },
  {
   "cell_type": "markdown",
   "metadata": {},
   "source": [
    "A **Change of Basis Matrix** translates vector representation from one basis, such as the standard coordinate system, to another basis"
   ]
  }
 ],
 "metadata": {
  "kernelspec": {
   "display_name": "pytorch",
   "language": "python",
   "name": "python3"
  },
  "language_info": {
   "codemirror_mode": {
    "name": "ipython",
    "version": 3
   },
   "file_extension": ".py",
   "mimetype": "text/x-python",
   "name": "python",
   "nbconvert_exporter": "python",
   "pygments_lexer": "ipython3",
   "version": "3.10.15"
  }
 },
 "nbformat": 4,
 "nbformat_minor": 2
}
