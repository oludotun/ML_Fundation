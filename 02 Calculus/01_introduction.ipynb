{
 "cells": [
  {
   "cell_type": "markdown",
   "metadata": {},
   "source": [
    "### Defining Calculus\n",
    "\n",
    "**Differential Calculus**: The derivative equation is used to describe the rate of change of a function. It's mostly used to find the minimum or maximum value of a given function as a part of an optimization problem.\n",
    "- Derivatives are used to determine the instantaneous rate of change of a function\n",
    "- Differentiation is the process of dividing something into smaller parts to track changes\n",
    "- Used to determine if a function is increasing or decreasing\n",
    "\n",
    "**Integral Calculus**: Concerned with finding the area under the curve. Integration is the reverse of differentiation\n",
    "- Uses integrals to determine the area under the curve\n",
    "- Integrations sums up infinitesimal pieces to get the total area under the curve\n",
    "- It is used to find areas, volumes, and central points"
   ]
  },
  {
   "cell_type": "markdown",
   "metadata": {},
   "source": [
    "### Application of Calculus in Machine Learning\n",
    "\n",
    "- Optimization problem: To train models, we use derivates that are used to perform anything from interference to data generation, to sequential decision making.\n",
    "- Optimization algorithm called Gradient Descent uses derivatives to decide whether to increase or decrease weights in order to maximize some objective. E.g. A model's accuracy or error function\n",
    "- By increasing or decreasing the weights, we can maximize or minimize the model's accuracy or error function\n",
    "- Integrals are used in Bayesian methods using probability density functions to perform the desired Bayesian computations\n",
    "- Calculation of eigenvectors and eigenvalues\n",
    "- Back propagation"
   ]
  },
  {
   "cell_type": "markdown",
   "metadata": {},
   "source": [
    "### Single-Variable Calculus\n",
    "\n",
    "This is based on a function that take a single input and produce a single output\n",
    "\n",
    "\\begin{aligned}\n",
    "f(x) &= mx + c \\\\\n",
    "\\end{aligned}\n",
    "\n",
    "Where:\n",
    "- $m$ - is the gradient or slope: It tells us how steep the straight line is. A positive values means the line is moving upwards while a negative value means the line is moving downwards\n",
    "- $c$ - is the intercept, the place where the line crosses the y-axis. it shows us how much the line is above or below the origin\n",
    "\n",
    "\n",
    "This is a linear function, y is a function of x and it's value (the output) depends in the input value (x). To draw the graph of our linear function, we have to:\n",
    "- Find points of the function i.e. choose input values\n",
    "- Plug in input values and calculate output values\n",
    "- The input values and corresponding output values form coordinate pairs\n",
    "- Plot the coordinate pairs on a grid\n",
    "\n",
    "Formula for the slope of the line:\n",
    "\n",
    "\\begin{aligned}\n",
    "m &= \\frac{y_2 - y_1}{x_2 - x_1} \\\\\n",
    "\\end{aligned}"
   ]
  },
  {
   "cell_type": "markdown",
   "metadata": {},
   "source": [
    "### Nonlinear Functions\n",
    "\n",
    "- Can be represented graphically with curves\n",
    "- The gradient is not a constant\n",
    "- Draw a straight line at different points picked on the curve, then calculate their slopes, you will get different results\n",
    "\n",
    "Examples of Nonlinear Functions includes:\n",
    "- Quadratic function\n",
    "- Polynomials\n",
    "- Rational function\n",
    "- Exponential function\n",
    "- Logarithmic function"
   ]
  },
  {
   "cell_type": "markdown",
   "metadata": {},
   "source": [
    "### Limits\n",
    "- Derivatives and Integrals are built on limits\n",
    "- They help us to know the value of a function\n",
    "\n",
    "The notation $\\lim\\limits_{x \\to a}f(x) = L$ explains that the functional values $f(x)$ can be made arbitrarily close to $L$ by requiring that $x$ be sufficiently close to but not equal to $a$\n",
    "\n",
    "For Example:\n",
    "\\begin{aligned}\n",
    "f(x) &= \\frac{x^2}{x - 1} \\\\\n",
    "\\lim\\limits_{x \\to 1}f(x) &= ? \\\\\n",
    "\\end{aligned}\n",
    "\n",
    "If we try to plug in 1 for the value of $x$, we get 1 divided by zero which is undefined. Also looking at the graph of the equation, we see that the limit is different when the function is approached from the left or from the right, which means we have two separate one-sided limits.\n",
    "\n",
    "\\begin{aligned}\n",
    "\\lim\\limits_{x \\to 1^+}f(x) &= + \\infty \\\\\n",
    "\\lim\\limits_{x \\to 1^-}f(x) &= - \\infty \\\\\n",
    "\\end{aligned}\n",
    "\n",
    "It is usually assumed that the limit (one-sided limit) is the same regardless of direction x approaches $a$ except in $a$ two-sided limits. $\\lim\\limits_{x \\to a^+}f(x) = L$ represents **Right-Hand Limit** and $\\lim\\limits_{x \\to a^-}f(x) = L$ represents **Left-Hand Limit**\n",
    "\n",
    "A two-sided limit will only exist if the corresponding one-sided limits both exist and are equal."
   ]
  }
 ],
 "metadata": {
  "language_info": {
   "name": "python"
  }
 },
 "nbformat": 4,
 "nbformat_minor": 2
}
