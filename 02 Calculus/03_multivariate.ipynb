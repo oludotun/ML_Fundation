{
 "cells": [
  {
   "cell_type": "markdown",
   "metadata": {},
   "source": [
    "### Multivariate Functions\n",
    "\n",
    "#### Partial Derivatives\n",
    "\n",
    "These are functions with more than one variable. For example:\n",
    "\n",
    "- $ f(x, y) = 5x^2y $ is a function of two variables: $x$ and $y$.\n",
    "- $ f(x,y,z) = 4xy^2 - 3yz^3 + 2x^2y^3z $ is a function of three variables $x,y,z$.\n",
    "\n",
    "To calculate the derivate of a multivariate function, we have to find the derivative of each variable separately. This is known as **partial derivative**\n",
    "\n",
    "For example:\n",
    "$ f(x,y) = 5x^2y+4xy $ Calculate the partial derivative with respect to $x$ and partial derivative with respect to $y$.\n",
    "- To calculate the partial derivative of $f(x,y)$ with respect to $x$, we'll treat the variable $y$ as a constant and we'll get\n",
    "\n",
    "\\begin{aligned}\n",
    "\\frac{d}{dx}f(x,y) &= 10xy + 4y \\\\\n",
    "\\end{aligned}\n",
    "\n",
    "- To calculate the partial derivative of $f(x,y)$ with respect to $y$, we'll treat the variable $x$ as a constant and we'll get\n",
    "\n",
    "\\begin{aligned}\n",
    "\\frac{d}{dy}f(x,y) &= 5x^2 + 4x \\\\\n",
    "\\end{aligned}\n"
   ]
  },
  {
   "cell_type": "markdown",
   "metadata": {},
   "source": [
    "$ f(x,y) = 2x^2y^3 + 3y^2 + 4xy $ Evaluate the partial derivatives at the point $(1, 2)$\n",
    "\n",
    "\\begin{aligned}\n",
    "\\frac{\\partial f}{\\partial x} &= 4xy^3 + 4y \\\\\n",
    "\\frac{\\partial f}{\\partial y} &= 6x^2y^2 + 6y + 4x \\\\\n",
    "\\frac{\\partial f}{\\partial x}(1,2) &= 4.1.2^3 + 4.2 = 40 \\\\\n",
    "\\frac{\\partial f}{\\partial y}(1,2) &= 6.1^2.2^2 + 6.2 + 4.1 = 40 \\\\\n",
    "\\end{aligned}\n"
   ]
  },
  {
   "cell_type": "markdown",
   "metadata": {},
   "source": [
    "$ f(x,y,z) = x^2 + y^3 + z^4 + 5xyz $ Evaluate the partial derivatives\n",
    "\n",
    "\\begin{aligned}\n",
    "\\frac{\\partial f}{\\partial x} &= 2x + 5yz \\\\\n",
    "\\frac{\\partial f}{\\partial y} &= 3y^2 + 5xz \\\\\n",
    "\\frac{\\partial f}{\\partial z} &= 4z^3 + 5xy \\\\\n",
    "\\end{aligned}"
   ]
  },
  {
   "cell_type": "code",
   "execution_count": 1,
   "metadata": {},
   "outputs": [],
   "source": [
    "from sympy import *"
   ]
  },
  {
   "cell_type": "code",
   "execution_count": 2,
   "metadata": {},
   "outputs": [
    {
     "data": {
      "text/latex": [
       "$\\displaystyle x^{2} + 5 x y z + y^{3} + z^{4}$"
      ],
      "text/plain": [
       "x**2 + 5*x*y*z + y**3 + z**4"
      ]
     },
     "execution_count": 2,
     "metadata": {},
     "output_type": "execute_result"
    }
   ],
   "source": [
    "x, y, z = symbols('x, y, z', real=True)\n",
    "f = x**2 + y**3 + z**4 + 5*x*y*z\n",
    "f"
   ]
  },
  {
   "cell_type": "code",
   "execution_count": 3,
   "metadata": {},
   "outputs": [
    {
     "name": "stdout",
     "output_type": "stream",
     "text": [
      " f_x= 2*x + 5*y*z\n",
      " f_y= 5*x*z + 3*y**2\n",
      " f_z= 5*x*y + 4*z**3\n"
     ]
    }
   ],
   "source": [
    "for var in [x, y , z]:\n",
    "    print(\" f_\" + str(var) + \"=\", f.diff(var))"
   ]
  },
  {
   "cell_type": "markdown",
   "metadata": {},
   "source": [
    "#### Higher-Order Partial Derivatives\n",
    "\n",
    "The derivative of $ f^\\prime(x) $ is called second derivative of $ f(x):f^{\\prime\\prime}(x) $. If we continue this process to find the third, fourth, fifth and successive derivatives of $f(x)$, all these derivatives are called Higher-Order Derivatives.\n",
    "\n",
    "The first derivative describes how fast a function is changing over time, for example the velocity of a car. Likewise, the second derivative describes how fast the first derivative is changing, this can be viewed as acceleration.\n",
    "\n",
    "For example:\n",
    "\n",
    "$ f(x, y) = 4x^2y^3 $\n",
    "\n",
    "\\begin{aligned}\n",
    "\\frac{\\partial f}{\\partial x} &= 8xy^3 \\\\\n",
    "\\frac{\\partial f}{\\partial y} &= 12x^2y^2 \\\\\n",
    "\\frac{\\partial^2 f}{\\partial x^2} &= 8y^3 \\\\\n",
    "\\frac{\\partial^2 f}{\\partial y^2} &= 24x^2y \\\\\n",
    "\\end{aligned}"
   ]
  },
  {
   "cell_type": "markdown",
   "metadata": {},
   "source": [
    "#### Mixed or Cross Partial Derivatives\n",
    "\n",
    "Using the example above:\n",
    "\n",
    "\\begin{aligned}\n",
    "\\frac{\\partial^2 f}{\\partial x \\partial y} &= 24xy^2 \\\\\n",
    "\\frac{\\partial^2 f}{\\partial y \\partial x} &= 24xy^2 \\\\\n",
    "\\end{aligned}\n",
    "\n",
    "- We differentiate the result of $\\frac{\\partial f}{\\partial x}$ with respect to $y$ to get $\\frac{\\partial^2 f}{\\partial x \\partial y}$ and\n",
    "- We differentiate the result of $\\frac{\\partial f}{\\partial y}$ with respect to $x$ to get $\\frac{\\partial^2 f}{\\partial y \\partial x}$\n",
    "\n",
    "Note that you'll get the same results each time you calculate the mixed second-order partial derivatives"
   ]
  },
  {
   "cell_type": "markdown",
   "metadata": {},
   "source": [
    "#### The Chain Rule for Partial Derivatives\n",
    "\n",
    "For example:\n",
    "\n",
    "- $ f(x, y) = x^2 + y^3 $ where $x$ and $y$ are functions of other variables $r$ and $s%\n",
    "- $ x(r, s) = r^2 + 3s $ and\n",
    "- $ y(r, s) = r + 2s $\n",
    "\n",
    "Find the partial derivates $ \\frac{\\partial f}{\\partial r} $ and $ \\frac{\\partial f}{\\partial s} $\n",
    "\n",
    "Solution:\n",
    "\n",
    "Identify the Dependent variable(s) ($f$ in this case), the Intermediate variable(s) (It connects the Dependent variable to the Independent variables, in this case it's $x$ and $y$), and the Independent variables ($r$ and $s$ in this case)\n",
    "\n",
    "\\begin{aligned}\n",
    "\\frac{\\partial f}{\\partial r} &= \\frac{\\partial f}{\\partial x}.\\frac{\\partial x}{\\partial r} + \\frac{\\partial f}{\\partial y}.\\frac{\\partial y}{\\partial r} = 2x.2r + 3y^2.1 = 4xr + 3y^2 \\\\\n",
    "\\frac{\\partial f}{\\partial s} &= \\frac{\\partial f}{\\partial x}.\\frac{\\partial x}{\\partial s} + \\frac{\\partial f}{\\partial y}.\\frac{\\partial y}{\\partial s} = 2x.3 + 3y^2.2 = 6x +6y^2 \\\\\n",
    "\\end{aligned}\n",
    "\n",
    "Plug in values for $x$ and $y$\n",
    "\n",
    "\\begin{aligned}\n",
    "\\frac{\\partial f}{\\partial r} &= 4xr + 3y^2 = 4.(r^2+3s).r + 3.(r+2s)^2 \\\\\n",
    "\\frac{\\partial f}{\\partial s} &= 6x +6y^2 = 6.(r^2+3s) + 6.(r+2s)^2 \\\\\n",
    "\\end{aligned}\n"
   ]
  }
 ],
 "metadata": {
  "kernelspec": {
   "display_name": "pytorch",
   "language": "python",
   "name": "python3"
  },
  "language_info": {
   "codemirror_mode": {
    "name": "ipython",
    "version": 3
   },
   "file_extension": ".py",
   "mimetype": "text/x-python",
   "name": "python",
   "nbconvert_exporter": "python",
   "pygments_lexer": "ipython3",
   "version": "3.10.15"
  }
 },
 "nbformat": 4,
 "nbformat_minor": 2
}
