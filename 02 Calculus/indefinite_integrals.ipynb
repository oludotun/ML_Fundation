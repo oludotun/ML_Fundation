{
 "cells": [
  {
   "cell_type": "markdown",
   "metadata": {},
   "source": [
    "### Table of indefinite integrals\n",
    "\n",
    "1. $\\int adx = ax + C$, $a$ is a constant\n",
    "2. $ \\int xdx = \\frac{x^2}{2} + C $\n",
    "3. $ \\int x^ndx = \\frac{x^{n+1}}{n+1} + C, n \\neq -1 $\n",
    "4. $ \\int \\frac{dx}{x} = \\ln |x| + C $\n",
    "5. $ \\int e^xdx = e^x + C $\n",
    "6. $ \\int a^xdx = \\frac{a^x}{\\ln a} + C $\n",
    "7. $ \\int \\sin xdx = − \\cos x + C $\n",
    "8. $ \\int \\cos xdx = \\sin x + C $\n",
    "9. $ \\int \\tan xdx = − \\ln | \\cos x| + C = \\ln | \\sec x| + C $\n",
    "10. $ \\int \\cot xdx = \\ln | \\sin x| + C = − \\ln | \\csc x| + C $\n",
    "11. $ \\int \\sec^2 xdx = \\tan x + C $\n",
    "12. $ \\int \\csc^2 xdx = − \\cot x + C $\n",
    "13. $ \\int \\sec x \\tan xdx = \\sec x + C $\n",
    "14. $ \\int \\csc x \\cot xdx = − \\csc x + C $\n",
    "15. $ \\int \\frac{dx}{\\sqrt{a^2 - x^2}} = \\arcsin \\frac{x}{a} + C $\n",
    "16. $ \\int \\frac{dx}{\\sqrt{x^2 + a}} = \\ln |x + \\sqrt{x^2 + a}| + C $\n",
    "17. $ \\int \\frac{dx}{x^2 + a^2} = \\frac{1}{a} \\arctan \\frac{x}{a} + C $\n",
    "18. $ \\int \\frac{dx}{x^2 - a^2} = \\frac{1}{2a} \\ln |\\frac{x-a}{x+a}| + C $\n",
    "19. $ \\int \\sec xdx = \\ln | \\sec x + \\tan x| + C $\n",
    "20. $ \\int \\csc xdx = \\ln | \\csc x − \\cot x| + C $"
   ]
  }
 ],
 "metadata": {
  "language_info": {
   "name": "python"
  }
 },
 "nbformat": 4,
 "nbformat_minor": 2
}
