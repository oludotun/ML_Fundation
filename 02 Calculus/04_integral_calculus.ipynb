{
 "cells": [
  {
   "cell_type": "markdown",
   "metadata": {},
   "source": [
    "### Integration\n",
    "\n",
    "Integration is the opposite of differentiation. The result of integration is often call anti-derivative, it's main purpose is to calculate the area under the curve.\n",
    "\n",
    "The exact area under a curve between $a$ and $b$ is given by the **definite integral**, which is defined as the limit of a Riemann sum given by this formula:\n",
    "\n",
    "\\begin{aligned}\n",
    "\\int_{a}^{b} f(x)dx &= \\lim\\limits_{n \\to \\infty} \\sum_{n=1}^{n} f(x_i) \\frac{b-a}{n} \\\\\n",
    "\\end{aligned}"
   ]
  },
  {
   "cell_type": "markdown",
   "metadata": {},
   "source": [
    "#### Integration Rules\n",
    "\n",
    "##### 1. The Power Rule\n",
    "\n",
    "To integrate any real power of x (except -1):\n",
    "\n",
    "\\begin{aligned}\n",
    "\\int x^n dx &= \\frac{1}{n + 1} x^{n+1} \\\\\n",
    "\\end{aligned}\n",
    "\n",
    "For example: \n",
    "\n",
    "\\begin{aligned}\n",
    "\\int x^3 dx &= \\frac{1}{3 + 1} x^{3+1} + c = \\frac{1}{4}x^4 + c \\\\\n",
    "\\end{aligned}"
   ]
  },
  {
   "cell_type": "markdown",
   "metadata": {},
   "source": [
    "##### 2. The Constant Multiple Rule\n",
    "\n",
    "It allows us to move a constant outside of a derivative before we integrate:\n",
    "\n",
    "\\begin{aligned}\n",
    "\\int nf(x) dx &= n \\int f(x) dx \\\\\n",
    "\\end{aligned}\n",
    "\n",
    "For example:\n",
    "\n",
    "\\begin{aligned}\n",
    "\\int 5 cos(x) dx &= 5 \\int cos(x) dx + c = 5sin(x) + c \\\\\n",
    "\\end{aligned}"
   ]
  },
  {
   "cell_type": "markdown",
   "metadata": {},
   "source": [
    "##### 3. The Sum Rule\n",
    "\n",
    "This can be expressed as:\n",
    "\n",
    "\\begin{aligned}\n",
    "\\int \\left[ f(x) + g(x) \\right] dx &= \\int f(x) dx + \\int g(x) dx \\\\\n",
    "\\end{aligned}\n",
    "\n",
    "For example:\n",
    "\n",
    "\\begin{aligned}\n",
    "\\int (x^3 + x^2 - 5) dx &= \\int x^3 dx + \\int x^2 dx - \\int 5 dx + C = \\frac{1}{4}x^4+\\frac{1}{3}x^3-5x+C \\\\\n",
    "\\end{aligned}"
   ]
  },
  {
   "cell_type": "markdown",
   "metadata": {},
   "source": [
    "#### Indefinite Integrals\n",
    "\n",
    "It can be calculated using the formula:\n",
    "\n",
    "\\begin{aligned}\n",
    "\\int f(x) dx &= F(x) + C \\\\\n",
    "\\end{aligned}\n",
    "\n",
    "For example:\n",
    "\n",
    "\\begin{aligned}\n",
    "f(x) &= x^4 \\\\\n",
    "\\frac{d}{dx}f(x) &= 4x^3 \\\\\n",
    "\\int 4x^3 dx &= 4 \\int x^3 dx = \\frac{4x^4}{4} + C = x^4 + C \\\\\n",
    "\\end{aligned}\n",
    "\n",
    "It is necessary to add C because we can only get the non constant terms right. For example if $ f(x) = x^4 $ or $ f(x) = x^4 + 5 $ or $ f(x) = x^4 - 40 $, the derivate would still be the same.\n",
    "Reference the [table of indefinite integrals](indefinite_integrals.ipynb) for common functions.\n",
    "\n",
    "\\begin{aligned}\n",
    "\\int (2x^3 - 3x) dx &= \\frac{2}{4}x^4 - \\frac{3}{2}x^2 + C \\\\\n",
    "\\frac{d}{dx}(\\frac{1}{2}x^4 - \\frac{3}{2}x^2 + C) &= \\frac{1}{2}.4x^3 - \\frac{3}{2}.2x^ + 0 = 2x^3 - 3x \\\\\n",
    "\\end{aligned}\n",
    "\n",
    "- Doesn't include limits of integration\n",
    "- Can be used to evaluate an infinite number of related definite integrals\n",
    "- Evaluates to a function"
   ]
  },
  {
   "cell_type": "markdown",
   "metadata": {},
   "source": [
    "#### Definite Integrals\n",
    "\n",
    "Let $F$ be any **anti-derivative of the function $f$**, then\n",
    "\n",
    "\\begin{aligned}\n",
    "\\int_a^b f(x) dx &= F(b) - F(a) \\\\\n",
    "\\end{aligned}\n",
    "\n",
    "- Includes limits of integration (a and b)\n",
    "- Represents the exact area of a specific set of points on a graph\n",
    "- Evaluates to a number"
   ]
  }
 ],
 "metadata": {
  "kernelspec": {
   "display_name": "pytorch",
   "language": "python",
   "name": "python3"
  },
  "language_info": {
   "name": "python",
   "version": "3.10.15"
  }
 },
 "nbformat": 4,
 "nbformat_minor": 2
}
