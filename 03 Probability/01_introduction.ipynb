{
 "cells": [
  {
   "cell_type": "markdown",
   "metadata": {},
   "source": [
    "### Definition\n",
    "\n",
    "**Probability**: It is used for quantifying predictions of events yet to happen while \\\n",
    "**Likelihood**: Is used for measuring the frequency of events that have already occurred \n",
    "\n",
    "\\begin{aligned}\n",
    "Probability &= \\frac{Occurrences}{Non-occurrences + Occurrences} \\\\\n",
    "\\end{aligned}"
   ]
  },
  {
   "cell_type": "markdown",
   "metadata": {},
   "source": [
    "### Applications of Probability in ML\n",
    "\n",
    "- Sampling: Probability forms the basis of sampling\n",
    "- Pattern Recognition: Probability theory is a crucial part of pattern recognition.\n",
    "- Model Training: Maximum likelihood estimation (MLE) and other iterative machine learning techniques are based on probability. Specifically, we use MLE for training in models like logistic regression, linear regression, and artificial neural networks\n",
    "- Hyperparameter Optimization: Hyperparameters are tuned through techniques like grid search and Bayesian optimization\n",
    "- Model Evaluation: Summarize the performance of a model based on predicted probabilities\n",
    "- Developing Specific Algorithms: Probability forms the basis of many specific algorithms in ML."
   ]
  },
  {
   "cell_type": "markdown",
   "metadata": {},
   "source": [
    "### Sample Space and Events\n",
    "\n",
    "- Experiment: A test we want to perform in order to calculate the probability of each possible outcome e.g. flipping a coin. but in ML, It involves **systematically varying one or more independent variables** and examining their effect on some **dependent variables**. Thus, **a machine learning experiment** requires more than a single learning run; it requires **a number of runs carried out under different conditions**.\n",
    "- Sample Space: It contains all possible outcomes of an experiment, also know as the set e.g. S = {heads, tails} in the case of flipping a coin. In ML, most sample space are continuous, so their elements aren't integers but floating point numbers. Usually a feature input ranges from 0 - 1 so we say the interval 0 - 1 is the sample space for that feature.\n",
    "- Event: The set of outcomes we want to calculate the probability of. Its denoted by $E$ e.g. the probability of getting heads in the case of flipping a coin. \n",
    "\n",
    "The probability of the event $ P(E) $ is calculated using the formula:\n",
    "\n",
    "\\begin{aligned}\n",
    "P(E) &= \\frac{n(E)}{n(S)} \\\\\n",
    "\\end{aligned}\n",
    "\n",
    "Where:\n",
    "- $n(E)$ is the cardinality (# of elements) of the event\n",
    "- $n(S)$ is the cardinality of the sample space\n",
    "\n",
    "For example:\n",
    "\n",
    "- Calculate the probability of rolling a number 5 on a die\n",
    "- $ E = \\{ 6 \\}, n(S) = 6, n(E) = 1 $\n",
    "- $ P(E) = \\frac{n(E)}{n(S)} = \\frac{1}{6} = 0.167 $\n"
   ]
  },
  {
   "cell_type": "markdown",
   "metadata": {},
   "source": [
    "### Random Variables\n",
    "\n",
    "It is composed of all possible outcomes in the sample space. A random variable is a variable that takes on values from its sample space with a certain probability. E.g. when flipping a coin, a random variable covers all the possible outcomes, in this case heads and tails.\n",
    "\n",
    "#### Discrete Random Variables\n",
    "- Can only take on specific values\n",
    "- Have to be countable\n",
    "- There should be distinctions between values\n",
    "- The number of sales per month, the number of layoffs at a company in a year, the number of newborn babies in a city in a year.\n",
    "\n",
    "#### Continuous Random Variables\n",
    "- Can take on infinite numbers of values in a range\n",
    "- Distinctions between incremental values are unimportant\n",
    "- The time to complete a running race, a company's yearly revenues, the weight of an adult\n",
    "- The probability is in some range of the sample space, not a particular real number\n",
    "- For the time to complete a running race, you can assign a probability to a range of seconds\n",
    "- For a company revenue, you can also assign a probability to a range of thousands, etc."
   ]
  },
  {
   "cell_type": "markdown",
   "metadata": {},
   "source": [
    "### Permutations\n",
    "\n",
    "What is the probability of guessing a four digit number if none of the digits are repeated. \\\n",
    "The number of sample space outcomes is $P(n, r)$\n",
    "\n",
    "\\begin{aligned}\n",
    "P(n, r) &= \\frac{n!}{(n - r)!} \\\\\n",
    "P(10, 4) &= \\frac{10!}{(10 - 4)!} = \\frac{10!}{6!} = \\frac{10\\times9\\times8\\times7\\times6!}{6!} = 10\\times9\\times8\\times7 = 5040 \\\\\n",
    "P(x) &= \\frac{1}{5040} \\approx 0.000198 \\approx 0.02\\% \\\\\n",
    "\\end{aligned}"
   ]
  },
  {
   "cell_type": "markdown",
   "metadata": {},
   "source": [
    "### Combinations\n",
    "\n",
    "Similar to Permutation, it takes only a portion of the items we choose from, but we don't care to arrange the items.\n",
    "\n",
    "\\begin{aligned}\n",
    "C(n, k) &= \\frac{n!}{(n - k)!k!} \\\\\n",
    "\\end{aligned}\n",
    "\n",
    "For example: What is the probability of randomly selecting two students out of the eight students in a class to give a presentation.\n",
    "\n",
    "\\begin{aligned}\n",
    "C(8, 2) &= \\frac{8!}{(8 - 2)!2!} = \\frac{8!}{6!\\times2!} = \\frac{8\\times7\\times6!}{6!\\times2\\times1} = \\frac{8\\times7}{2\\times1} = 4 \\times 7 = 28 \\\\\n",
    "P(x) &= \\frac{1}{28} \\approx 0.0357 \\approx 3.57\\% \\\\\n",
    "\\end{aligned}\n",
    "\n",
    "If we're choosing specifically Ann and Peter, there are two choices out of eight students to pick Ann or Petter, and after we pick one of them, we're left with only one choice:\n",
    "\n",
    "\\begin{aligned}\n",
    "P(x) &= \\frac{2}{8} \\times \\frac{1}{7} = \\frac{1}{28} \\approx 0.0357 \\approx 3.57\\% \\\\\n",
    "\\end{aligned}"
   ]
  }
 ],
 "metadata": {
  "language_info": {
   "name": "python"
  }
 },
 "nbformat": 4,
 "nbformat_minor": 2
}
