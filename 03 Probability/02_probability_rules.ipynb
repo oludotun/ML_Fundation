{
 "cells": [
  {
   "cell_type": "markdown",
   "metadata": {},
   "source": [
    "### Probability of an Event\n",
    "\n",
    "- $ \\sum P(A_i) = 1 $ The sum of all the probability in a sample space is 1\n",
    "- $ 0 \\leq P(A) \\leq 1 $ The probability of an event from the sample space is always less than oe equal to 1\n",
    "- $ P(A^\\prime) = 1 - P(A) $ Probability that the event A does not happen"
   ]
  },
  {
   "cell_type": "markdown",
   "metadata": {},
   "source": [
    "#### The Sum Rule\n",
    "\n",
    "The probability of United States winning the Olympics and Japan winning the Olympics. These two events cannot occur simultaneously; which means the events are **mutually exclusive**. \\\n",
    "$ P(A \\cup B) = P(A) + P(B) $ This is referred to as A union B.\n",
    "\n",
    "For example when rolling a die, the probability of getting one (A) or two (B) is mutually exclusive.\n",
    "\n",
    "- $ P(A) = \\frac{1}{6} $ and $ P(B) = \\frac{1}{6} $\n",
    "- $ P(A$ or $B)$ $ = P(A) + P(B) = \\frac{1}{6} + \\frac{1}{6} = \\frac{2}{6} = \\frac{1}{3} \\approx 0.33 \\approx 33\\% $"
   ]
  },
  {
   "cell_type": "markdown",
   "metadata": {},
   "source": [
    "### The Product Rule\n",
    "\n",
    "We can calculate the probability of two or more independent events happening together by multiplying the individual probabilities of the event.\n",
    "\n",
    "$P(A$ and $B)$ $ = P(A \\cap B) = P(A) \\cdot P(B) $ This is referred to as A intersection B.\n",
    "\n",
    "For example, when rolling a die, what is the probability of getting the number 3 twice.\n",
    "\n",
    "- $ P(A) = \\frac{1}{6} $ and $ P(B) = \\frac{1}{6} $\n",
    "- $ P(A \\cap B) = \\frac{1}{6} \\cdot \\frac{1}{6} = \\frac{1}{36} \\approx 0.028 \\approx 2.8\\% $\n",
    "\n",
    "Another Example: Approximately 0.7% of students knows how to code, and approximately 30% of students offers Chemistry. What is the probability that a randomly selected students can code and offers Chemistry.\n",
    "\n",
    "- $ P(A) = 0.007 $ and $ P(B) = 0.3 $\n",
    "- $ P(A \\cap B) = P(A) \\cdot P(B) = 0.007 \\times 0.3 \\approx 0.0021 \\approx 0.21\\% $\n"
   ]
  },
  {
   "cell_type": "markdown",
   "metadata": {},
   "source": [
    "### Sum Rule Extended\n",
    "\n",
    "For Example, 40% of students are learning Python, 30% are learning Java and 12% are learning both Python and Java. What is the probability that a randomly selected student is learning Python or Java.\n",
    "\n",
    "The sum rule can be represented with the formula: \\\n",
    "$ P(A \\cup B) = P(A) + P(B) - P(A \\cap B) $ Events A and B aren't mutually exclusive. \\\n",
    "$ P(A \\cup B) = 0.4 + 0.3 - 0.12 = 0.58 $ There is a 58% chance that a student is learning Java or Python"
   ]
  },
  {
   "cell_type": "markdown",
   "metadata": {},
   "source": [
    "### Conditional Probability\n",
    "\n",
    "It is the probability of an event A occurring given event B has occurred; it can be represented as $ P(A $ given $B)$ or $P(A|B)$\n",
    "\n",
    "$P(A|B) \\neq P(B|A) $ The direction of the condition is important\n",
    "\n",
    "The formula for the conditional probability of event A given that event B is true:\n",
    "\n",
    "\\begin{aligned}\n",
    "P(A|B) = \\frac{P(A \\cap B)}{P(B)} \\\\\n",
    "\\end{aligned} \n",
    "\n",
    "For example, a research found that 3% of adults have never been employed and have used LinkedIn. If 35% of adults have never been employed, what is the probability that an adult has used LinkedIn given that they have never been employed.\n",
    "\n",
    "\\begin{aligned}\n",
    "P(B) &= 0.35 \\\\\n",
    "P(A \\cap B) &= 0.03 \\\\\n",
    "P(A|B) &= \\frac{P(A \\cap B)}{P(B)} = \\frac{0.03}{0.35} \\approx 0.0857 \\approx 8.6\\% \\\\\n",
    "\\end{aligned} "
   ]
  },
  {
   "cell_type": "markdown",
   "metadata": {},
   "source": [
    "### Total Probability\n",
    "\n",
    "Total probability combines the chances of an event happening through different paths by multiplying each path's probability $ P(B_i) $ and outcome likelihood $ P(A|B_i) $, then adding them to find the overall probability. For example, picking chocolate from two jars (that contains chocolates and candies) depends on which jar you choose first.\n",
    "\n",
    "Sample space in this case is separated into disjoint regions (jars) $B_1, B_2 \\dots$\n",
    "\n",
    "\\begin{aligned}\n",
    "P(A) &= \\sum_{i} P(A|B_i)P(B_i) \\\\\n",
    "\\end{aligned}\n",
    "\n",
    "For example, Imagine a city with three neighborhoods: A, B, and C. People from each neighborhood use buses, trains, or cars to commute, and you want to find the probability that a random commuter uses the train.\n",
    "- Neighborhood A: Population = 500 people and 200 use trains.\n",
    "- Neighborhood B: Population = 300 people and 90 use trains.\n",
    "- Neighborhood C: Population = 200 people and 60 use trains.\n",
    "\n",
    "Now you randomly select one commuter from the city.\n",
    "\n",
    "The total population is: $ 500 + 300 + 200 = 1000 $ people\n",
    "\n",
    "The probability of selecting someone from each neighborhood is:\n",
    "\n",
    "\\begin{aligned}\n",
    "P(A) &= \\frac{500}{1000} = 0.5 \\qquad P(B) = \\frac{300}{1000} = 0.3 \\qquad P(C) = \\frac{200}{1000} = 0.2 \\\\\n",
    "\\end{aligned}\n",
    "\n",
    "For each neighborhood, the probability of using a train is:\n",
    "\n",
    "\\begin{aligned}\n",
    "P(Train|A) &= \\frac{200}{500} = 0.4 \\qquad P(Train|B) = \\frac{90}{300} = 0.3 \\qquad P(Train|C) = \\frac{60}{200} = 0.3 \\\\\n",
    "\\end{aligned}\n",
    "\n",
    "Now, combine the probabilities:\n",
    "\n",
    "\\begin{aligned}\n",
    "P(Train) &= P(Train|A) \\cdot P(A) + P(Train|B) \\cdot P(B) + P(Train|C) \\cdot P(C) \\\\\n",
    "P(Train) &= (0.4 \\times 0.5) + (0.3 \\times 0.3) + (0.3 \\times 0.2) = 0.2+0.09+0.06 = 0.35 = 35\\%\\\\\n",
    "\\end{aligned}\n",
    "\n",
    "The total probability that a randomly selected commuter uses the train is 35%."
   ]
  }
 ],
 "metadata": {
  "language_info": {
   "name": "python"
  }
 },
 "nbformat": 4,
 "nbformat_minor": 2
}
