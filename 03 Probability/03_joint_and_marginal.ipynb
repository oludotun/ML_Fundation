{
 "cells": [
  {
   "cell_type": "markdown",
   "metadata": {},
   "source": [
    "### Joint Probability\n",
    "\n",
    "You’re flipping a coin and rolling a die at the same time. You want to know the chance (probability) of two things happening together:\n",
    "- The coin shows heads $ P(A) $.\n",
    "- The die rolls a 6 $ P(B) $.\n",
    "\n",
    "These two things are happening at the same time, so we are finding the joint probability.\n",
    "\n",
    "Joint Probability $=$ Chance of heads $\\times$ Chance of rolling a 6 which is $ P(A $ and $B)$ or $ P(A \\cap B)$\n",
    "\n",
    "\\begin{aligned}\n",
    "P(A \\cap B) &= \\frac{1}{2} \\times \\frac{1}{6} = \\frac{1}{12} \\\\\n",
    "\\end{aligned}"
   ]
  },
  {
   "cell_type": "markdown",
   "metadata": {},
   "source": [
    "### Marginal Probability\n",
    "\n",
    "You’re flipping a coin and rolling a die, but now you only care about one thing: the chance (probability) of rolling a 6, no matter what happens with the coin.\n",
    "\n",
    "This is called **marginal probability** because you’re focusing on just one event and ignoring everything else.\n",
    "\n",
    "So $P(B) = \\frac{1}{6} $"
   ]
  },
  {
   "cell_type": "markdown",
   "metadata": {},
   "source": [
    "### Joint Probability Tables\n",
    "\n",
    "Imagine a survey of 100 people asked two questions:\n",
    "- Do you prefer Coffee or Tea?\n",
    "- Do you add Milk or No Milk?\n",
    "\n",
    "Here are the survey results:\n",
    "\n",
    "- 40 people like coffee with milk.\n",
    "- 20 people like coffee without milk.\n",
    "- 25 people like tea with milk.\n",
    "- 15 people like tea without milk.\n",
    "\n",
    "Joint Probability Table:\n",
    "\n",
    "| | Milk $P(M)$ | No Milk $P(NM)$ | Total |\n",
    "|---|---|---|---|\n",
    "| Coffee $P(C)$ |0.40|0.20|0.60|\n",
    "| Tea $P(T)$ |0.25|0.15|0.40|\n",
    "| Total |0.65|0.35|1.00|\n",
    "\n",
    "- Joint Probability:\n",
    "    - P(Coffee and Milk) = 0.40\n",
    "    - P(Tea and No Milk) = 0.15\n",
    "- Marginal Probability:\n",
    "    - P(Coffee) = 0.60 (sum of the Coffee row: 0.40 + 0.20)\n",
    "    - P(Milk) = 0.65 (sum of the Milk column: 0.40 + 0.25)"
   ]
  },
  {
   "cell_type": "markdown",
   "metadata": {},
   "source": [
    "### The Chain Rule of Probability\n",
    "\n",
    "In ML, it is often required to calculate the joint probability of multiple random variables, this is where the chain rule of probability is helpful. The chain rule for the probability of n random variables can be expressed as:\n",
    "\n",
    "\\begin{aligned}\n",
    "P(X_1, X_2,\\dots,X_n) &= \\prod_{i=1}^{n} P(X_i|X_1^{i-1}) = P(X_1) \\cdot P(X_2|X_1) \\cdot P(X_3|X_1,X_2) \\dots P(X_n|X_{n-1},X_{n-2}, \\dots, X_1) \\\\\n",
    "\\end{aligned}\n",
    "\n",
    "For example, if there are three random variables X, Y, and Z, this formula can be written as:\n",
    "\n",
    "\\begin{aligned}\n",
    "P(X,Y,Z) &= P(X|Y,Z) \\cdot P(Y,Z) = P(X|Y,Z) \\cdot P(Y|Z) \\cdot P(Z) \\\\\n",
    "\\end{aligned}"
   ]
  },
  {
   "cell_type": "markdown",
   "metadata": {},
   "source": [
    "The chain rule breaks down a joint probability into the product of smaller joints probabilities and conditional probabilities.\n",
    "\n",
    "For example,\n",
    "\n",
    "In a company of 100 people, 16 people are working on ML Project, if we pick 3 people at random, what is the probability that none of them have been working on the ML project?\n",
    "\n",
    "- Let $A_i = $ the event of a person who has not been working on the ML project \n",
    "- Using chain rule: $ P(A_3,A_2,A_1) = P(A_3|A_2,A_1).P(A_2|A_1).P(A_1) $\n",
    "- $ P(A_1) = $ the probability of picking a random person who has not been working on the ML project\n",
    "\n",
    "\\begin{aligned}\n",
    "P(A_1) &= \\frac{100-16}{100} = \\frac{84}{100} \\\\\n",
    "P(A_2|A_1) &= \\frac{99-16}{99} = \\frac{83}{99} \\\\\n",
    "P(A_3|A_2,A_1) &= \\frac{98-16}{98} = \\frac{82}{98} \\\\\n",
    "P(A_3,A_2,A_1) &= \\frac{84}{100} . \\frac{83}{99} . \\frac{82}{98} = 0.5893\n",
    "\\end{aligned}"
   ]
  }
 ],
 "metadata": {
  "language_info": {
   "name": "python"
  }
 },
 "nbformat": 4,
 "nbformat_minor": 2
}
