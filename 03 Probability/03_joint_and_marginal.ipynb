{
 "cells": [
  {
   "cell_type": "markdown",
   "metadata": {},
   "source": [
    "### Joint Probability\n",
    "\n",
    "You’re flipping a coin and rolling a die at the same time. You want to know the chance (probability) of two things happening together:\n",
    "- The coin shows heads $ P(A) $.\n",
    "- The die rolls a 6 $ P(B) $.\n",
    "\n",
    "These two things are happening at the same time, so we are finding the joint probability.\n",
    "\n",
    "Joint Probability $=$ Chance of heads $\\times$ Chance of rolling a 6 which is $ P(A $ and $B)$ or $ P(A \\cap B)$\n",
    "\n",
    "\\begin{aligned}\n",
    "P(A \\cap B) &= \\frac{1}{2} \\times \\frac{1}{6} = \\frac{1}{12} \\\\\n",
    "\\end{aligned}"
   ]
  },
  {
   "cell_type": "markdown",
   "metadata": {},
   "source": [
    "### Marginal Probability\n",
    "\n",
    "You’re flipping a coin and rolling a die, but now you only care about one thing: the chance (probability) of rolling a 6, no matter what happens with the coin.\n",
    "\n",
    "This is called **marginal probability** because you’re focusing on just one event and ignoring everything else.\n",
    "\n",
    "So $P(B) = \\frac{1}{6} $"
   ]
  },
  {
   "cell_type": "markdown",
   "metadata": {},
   "source": [
    "### Joint Probability Tables\n",
    "\n",
    "Imagine a survey of 100 people asked two questions:\n",
    "- Do you prefer Coffee or Tea?\n",
    "- Do you add Milk or No Milk?\n",
    "\n",
    "Here are the survey results:\n",
    "\n",
    "- 40 people like coffee with milk.\n",
    "- 20 people like coffee without milk.\n",
    "- 25 people like tea with milk.\n",
    "- 15 people like tea without milk.\n",
    "\n",
    "Joint Probability Table:\n",
    "\n",
    "| | Milk $P(M)$ | No Milk $P(NM)$ | Total |\n",
    "|---|---|---|---|\n",
    "| Coffee $P(C)$ |0.40|0.20|0.60|\n",
    "| Tea $P(T)$ |0.25|0.15|0.40|\n",
    "| Total |0.65|0.35|1.00|\n",
    "\n",
    "- Joint Probability:\n",
    "    - P(Coffee and Milk) = 0.40\n",
    "    - P(Tea and No Milk) = 0.15\n",
    "- Marginal Probability:\n",
    "    - P(Coffee) = 0.60 (sum of the Coffee row: 0.40 + 0.20)\n",
    "    - P(Milk) = 0.65 (sum of the Milk column: 0.40 + 0.25)"
   ]
  },
  {
   "cell_type": "markdown",
   "metadata": {},
   "source": [
    "### The Chain Rule of Probability\n",
    "\n",
    "In ML, it is often required to calculate the joint probability of multiple random variables, this is where the chain rule of probability is helpful."
   ]
  }
 ],
 "metadata": {
  "language_info": {
   "name": "python"
  }
 },
 "nbformat": 4,
 "nbformat_minor": 2
}
